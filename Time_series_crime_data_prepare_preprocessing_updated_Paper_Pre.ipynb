{
 "cells": [
  {
   "cell_type": "code",
   "execution_count": 1,
   "metadata": {},
   "outputs": [],
   "source": [
    "from statsmodels.stats.outliers_influence import variance_inflation_factor\n",
    "import pandas as pd\n",
    "import math\n",
    "import numpy as np\n",
    "import statsmodels.api as sm\n",
    "import statsmodels.formula.api as smf\n",
    "from sklearn.preprocessing import StandardScaler\n",
    "from sklearn.preprocessing import PolynomialFeatures\n",
    "from sklearn.linear_model import LinearRegression\n",
    "from sklearn.model_selection import train_test_split\n",
    "from sklearn.metrics import mean_squared_error\n",
    "from statsmodels.tools.tools import add_constant\n",
    "import matplotlib.pyplot as plt\n",
    "import seaborn as sns\n",
    "import seaborn as snsbb\n",
    "from scipy.stats import t\n",
    "from scipy.stats import norm\n",
    "from linearmodels import PanelOLS\n",
    "from linearmodels.panel import compare\n",
    "import geopandas as gpd\n",
    "\n"
   ]
  },
  {
   "cell_type": "code",
   "execution_count": 2,
   "metadata": {},
   "outputs": [],
   "source": [
    "pre_ts_analysis = pd.read_csv('Research_Firearm/pre_ts_analysis_clean.csv')\n",
    "\n"
   ]
  },
  {
   "cell_type": "code",
   "execution_count": 3,
   "metadata": {},
   "outputs": [
    {
     "data": {
      "text/plain": [
       "Index(['Year', 'Precinct', 'Full Time Positions', 'Budget', 'Borough',\n",
       "       'MURDER & NON NEGL. MANSLAUGHTER', 'RAPE', 'ROBBERY', 'FELONY ASSAULT',\n",
       "       'BURGLARY', 'GRAND LARCENY', 'GRAND LARCENY OF MOTOR VEHICLE',\n",
       "       'TOTAL SEVEN MAJOR FELONY OFFENSES', 'Population_Year'],\n",
       "      dtype='object')"
      ]
     },
     "execution_count": 3,
     "metadata": {},
     "output_type": "execute_result"
    }
   ],
   "source": [
    "pre_ts_analysis.columns"
   ]
  },
  {
   "cell_type": "code",
   "execution_count": 6,
   "metadata": {},
   "outputs": [
    {
     "name": "stdout",
     "output_type": "stream",
     "text": [
      "Precinct\n",
      "1      18\n",
      "68     18\n",
      "94     18\n",
      "90     18\n",
      "88     18\n",
      "84     18\n",
      "83     18\n",
      "81     18\n",
      "79     18\n",
      "78     18\n",
      "77     18\n",
      "76     18\n",
      "75     18\n",
      "73     18\n",
      "72     18\n",
      "71     18\n",
      "70     18\n",
      "100    18\n",
      "101    18\n",
      "102    18\n",
      "111    18\n",
      "122    18\n",
      "120    18\n",
      "115    18\n",
      "114    18\n",
      "113    18\n",
      "112    18\n",
      "110    18\n",
      "103    18\n",
      "109    18\n",
      "108    18\n",
      "107    18\n",
      "106    18\n",
      "105    18\n",
      "104    18\n",
      "69     18\n",
      "67     18\n",
      "5      18\n",
      "66     18\n",
      "32     18\n",
      "30     18\n",
      "28     18\n",
      "26     18\n",
      "25     18\n",
      "24     18\n",
      "23     18\n",
      "20     18\n",
      "19     18\n",
      "17     18\n",
      "13     18\n",
      "10     18\n",
      "9      18\n",
      "7      18\n",
      "6      18\n",
      "33     18\n",
      "34     18\n",
      "40     18\n",
      "49     18\n",
      "63     18\n",
      "62     18\n",
      "61     18\n",
      "60     18\n",
      "52     18\n",
      "50     18\n",
      "48     18\n",
      "41     18\n",
      "47     18\n",
      "46     18\n",
      "45     18\n",
      "44     18\n",
      "43     18\n",
      "42     18\n",
      "123    18\n"
     ]
    }
   ],
   "source": [
    "precinct_counts = pre_ts_analysis['Precinct'].value_counts()\n",
    "print(precinct_counts.to_string())"
   ]
  },
  {
   "cell_type": "code",
   "execution_count": 7,
   "metadata": {},
   "outputs": [
    {
     "data": {
      "text/html": [
       "<div>\n",
       "<style scoped>\n",
       "    .dataframe tbody tr th:only-of-type {\n",
       "        vertical-align: middle;\n",
       "    }\n",
       "\n",
       "    .dataframe tbody tr th {\n",
       "        vertical-align: top;\n",
       "    }\n",
       "\n",
       "    .dataframe thead th {\n",
       "        text-align: right;\n",
       "    }\n",
       "</style>\n",
       "<table border=\"1\" class=\"dataframe\">\n",
       "  <thead>\n",
       "    <tr style=\"text-align: right;\">\n",
       "      <th></th>\n",
       "      <th>Year</th>\n",
       "      <th>Precinct</th>\n",
       "      <th>Full Time Positions</th>\n",
       "      <th>Budget</th>\n",
       "      <th>Borough</th>\n",
       "      <th>MURDER &amp; NON NEGL. MANSLAUGHTER</th>\n",
       "      <th>RAPE</th>\n",
       "      <th>ROBBERY</th>\n",
       "      <th>FELONY ASSAULT</th>\n",
       "      <th>BURGLARY</th>\n",
       "      <th>GRAND LARCENY</th>\n",
       "      <th>GRAND LARCENY OF MOTOR VEHICLE</th>\n",
       "      <th>TOTAL SEVEN MAJOR FELONY OFFENSES</th>\n",
       "      <th>Population_Year</th>\n",
       "    </tr>\n",
       "  </thead>\n",
       "  <tbody>\n",
       "    <tr>\n",
       "      <th>0</th>\n",
       "      <td>2006</td>\n",
       "      <td>1</td>\n",
       "      <td>219</td>\n",
       "      <td>11001943</td>\n",
       "      <td>MANHATTAN SOUTH</td>\n",
       "      <td>1</td>\n",
       "      <td>4</td>\n",
       "      <td>119</td>\n",
       "      <td>94</td>\n",
       "      <td>255</td>\n",
       "      <td>1462</td>\n",
       "      <td>78</td>\n",
       "      <td>2013</td>\n",
       "      <td>59431</td>\n",
       "    </tr>\n",
       "    <tr>\n",
       "      <th>1</th>\n",
       "      <td>2006</td>\n",
       "      <td>5</td>\n",
       "      <td>240</td>\n",
       "      <td>12354423</td>\n",
       "      <td>MANHATTAN SOUTH</td>\n",
       "      <td>2</td>\n",
       "      <td>5</td>\n",
       "      <td>132</td>\n",
       "      <td>104</td>\n",
       "      <td>152</td>\n",
       "      <td>605</td>\n",
       "      <td>40</td>\n",
       "      <td>1040</td>\n",
       "      <td>53356</td>\n",
       "    </tr>\n",
       "    <tr>\n",
       "      <th>2</th>\n",
       "      <td>2006</td>\n",
       "      <td>6</td>\n",
       "      <td>237</td>\n",
       "      <td>10716126</td>\n",
       "      <td>MANHATTAN SOUTH</td>\n",
       "      <td>3</td>\n",
       "      <td>6</td>\n",
       "      <td>214</td>\n",
       "      <td>123</td>\n",
       "      <td>280</td>\n",
       "      <td>1283</td>\n",
       "      <td>70</td>\n",
       "      <td>1979</td>\n",
       "      <td>61259</td>\n",
       "    </tr>\n",
       "    <tr>\n",
       "      <th>3</th>\n",
       "      <td>2006</td>\n",
       "      <td>7</td>\n",
       "      <td>174</td>\n",
       "      <td>7786080</td>\n",
       "      <td>MANHATTAN SOUTH</td>\n",
       "      <td>4</td>\n",
       "      <td>7</td>\n",
       "      <td>176</td>\n",
       "      <td>105</td>\n",
       "      <td>127</td>\n",
       "      <td>362</td>\n",
       "      <td>83</td>\n",
       "      <td>864</td>\n",
       "      <td>55703</td>\n",
       "    </tr>\n",
       "    <tr>\n",
       "      <th>4</th>\n",
       "      <td>2006</td>\n",
       "      <td>9</td>\n",
       "      <td>234</td>\n",
       "      <td>10190005</td>\n",
       "      <td>MANHATTAN SOUTH</td>\n",
       "      <td>1</td>\n",
       "      <td>14</td>\n",
       "      <td>252</td>\n",
       "      <td>165</td>\n",
       "      <td>297</td>\n",
       "      <td>775</td>\n",
       "      <td>75</td>\n",
       "      <td>1579</td>\n",
       "      <td>76639</td>\n",
       "    </tr>\n",
       "    <tr>\n",
       "      <th>...</th>\n",
       "      <td>...</td>\n",
       "      <td>...</td>\n",
       "      <td>...</td>\n",
       "      <td>...</td>\n",
       "      <td>...</td>\n",
       "      <td>...</td>\n",
       "      <td>...</td>\n",
       "      <td>...</td>\n",
       "      <td>...</td>\n",
       "      <td>...</td>\n",
       "      <td>...</td>\n",
       "      <td>...</td>\n",
       "      <td>...</td>\n",
       "      <td>...</td>\n",
       "    </tr>\n",
       "    <tr>\n",
       "      <th>1309</th>\n",
       "      <td>2023</td>\n",
       "      <td>114</td>\n",
       "      <td>252</td>\n",
       "      <td>20752787</td>\n",
       "      <td>QUEENS NORTH</td>\n",
       "      <td>8</td>\n",
       "      <td>40</td>\n",
       "      <td>279</td>\n",
       "      <td>509</td>\n",
       "      <td>224</td>\n",
       "      <td>920</td>\n",
       "      <td>430</td>\n",
       "      <td>2410</td>\n",
       "      <td>210231</td>\n",
       "    </tr>\n",
       "    <tr>\n",
       "      <th>1310</th>\n",
       "      <td>2023</td>\n",
       "      <td>115</td>\n",
       "      <td>289</td>\n",
       "      <td>16525730</td>\n",
       "      <td>QUEENS NORTH</td>\n",
       "      <td>4</td>\n",
       "      <td>27</td>\n",
       "      <td>365</td>\n",
       "      <td>481</td>\n",
       "      <td>136</td>\n",
       "      <td>863</td>\n",
       "      <td>337</td>\n",
       "      <td>2213</td>\n",
       "      <td>181382</td>\n",
       "    </tr>\n",
       "    <tr>\n",
       "      <th>1311</th>\n",
       "      <td>2023</td>\n",
       "      <td>120</td>\n",
       "      <td>399</td>\n",
       "      <td>29273345</td>\n",
       "      <td>STATEN ISLAND</td>\n",
       "      <td>12</td>\n",
       "      <td>19</td>\n",
       "      <td>163</td>\n",
       "      <td>470</td>\n",
       "      <td>142</td>\n",
       "      <td>414</td>\n",
       "      <td>156</td>\n",
       "      <td>1376</td>\n",
       "      <td>125104</td>\n",
       "    </tr>\n",
       "    <tr>\n",
       "      <th>1312</th>\n",
       "      <td>2023</td>\n",
       "      <td>122</td>\n",
       "      <td>249</td>\n",
       "      <td>19873478</td>\n",
       "      <td>STATEN ISLAND</td>\n",
       "      <td>2</td>\n",
       "      <td>8</td>\n",
       "      <td>50</td>\n",
       "      <td>169</td>\n",
       "      <td>100</td>\n",
       "      <td>474</td>\n",
       "      <td>109</td>\n",
       "      <td>912</td>\n",
       "      <td>146208</td>\n",
       "    </tr>\n",
       "    <tr>\n",
       "      <th>1313</th>\n",
       "      <td>2023</td>\n",
       "      <td>123</td>\n",
       "      <td>148</td>\n",
       "      <td>13394487</td>\n",
       "      <td>STATEN ISLAND</td>\n",
       "      <td>1</td>\n",
       "      <td>2</td>\n",
       "      <td>20</td>\n",
       "      <td>88</td>\n",
       "      <td>57</td>\n",
       "      <td>286</td>\n",
       "      <td>79</td>\n",
       "      <td>533</td>\n",
       "      <td>101539</td>\n",
       "    </tr>\n",
       "  </tbody>\n",
       "</table>\n",
       "<p>1314 rows × 14 columns</p>\n",
       "</div>"
      ],
      "text/plain": [
       "      Year  Precinct  Full Time Positions    Budget          Borough  \\\n",
       "0     2006         1                  219  11001943  MANHATTAN SOUTH   \n",
       "1     2006         5                  240  12354423  MANHATTAN SOUTH   \n",
       "2     2006         6                  237  10716126  MANHATTAN SOUTH   \n",
       "3     2006         7                  174   7786080  MANHATTAN SOUTH   \n",
       "4     2006         9                  234  10190005  MANHATTAN SOUTH   \n",
       "...    ...       ...                  ...       ...              ...   \n",
       "1309  2023       114                  252  20752787     QUEENS NORTH   \n",
       "1310  2023       115                  289  16525730     QUEENS NORTH   \n",
       "1311  2023       120                  399  29273345    STATEN ISLAND   \n",
       "1312  2023       122                  249  19873478    STATEN ISLAND   \n",
       "1313  2023       123                  148  13394487    STATEN ISLAND   \n",
       "\n",
       "      MURDER & NON NEGL. MANSLAUGHTER  RAPE  ROBBERY  FELONY ASSAULT  \\\n",
       "0                                   1     4      119              94   \n",
       "1                                   2     5      132             104   \n",
       "2                                   3     6      214             123   \n",
       "3                                   4     7      176             105   \n",
       "4                                   1    14      252             165   \n",
       "...                               ...   ...      ...             ...   \n",
       "1309                                8    40      279             509   \n",
       "1310                                4    27      365             481   \n",
       "1311                               12    19      163             470   \n",
       "1312                                2     8       50             169   \n",
       "1313                                1     2       20              88   \n",
       "\n",
       "      BURGLARY  GRAND LARCENY  GRAND LARCENY OF MOTOR VEHICLE  \\\n",
       "0          255           1462                              78   \n",
       "1          152            605                              40   \n",
       "2          280           1283                              70   \n",
       "3          127            362                              83   \n",
       "4          297            775                              75   \n",
       "...        ...            ...                             ...   \n",
       "1309       224            920                             430   \n",
       "1310       136            863                             337   \n",
       "1311       142            414                             156   \n",
       "1312       100            474                             109   \n",
       "1313        57            286                              79   \n",
       "\n",
       "      TOTAL SEVEN MAJOR FELONY OFFENSES  Population_Year  \n",
       "0                                  2013            59431  \n",
       "1                                  1040            53356  \n",
       "2                                  1979            61259  \n",
       "3                                   864            55703  \n",
       "4                                  1579            76639  \n",
       "...                                 ...              ...  \n",
       "1309                               2410           210231  \n",
       "1310                               2213           181382  \n",
       "1311                               1376           125104  \n",
       "1312                                912           146208  \n",
       "1313                                533           101539  \n",
       "\n",
       "[1314 rows x 14 columns]"
      ]
     },
     "execution_count": 7,
     "metadata": {},
     "output_type": "execute_result"
    }
   ],
   "source": [
    "pre_ts_analysis"
   ]
  },
  {
   "cell_type": "code",
   "execution_count": 5,
   "metadata": {},
   "outputs": [
    {
     "name": "stdout",
     "output_type": "stream",
     "text": [
      "    Precinct  Year  Count\n",
      "0          6  2006      1\n",
      "1          6  2007      1\n",
      "2          6  2008      1\n",
      "3          6  2009      1\n",
      "4          6  2010      1\n",
      "5          6  2011      1\n",
      "6          6  2012      1\n",
      "7          6  2013      1\n",
      "8          6  2014      1\n",
      "9          6  2015      1\n",
      "10         6  2016      1\n",
      "11         6  2017      1\n",
      "12         6  2018      1\n",
      "13         6  2019      1\n",
      "14         6  2020      1\n",
      "15         6  2021      1\n",
      "16         6  2022      1\n",
      "17         6  2023      1\n",
      "18        76  2006      1\n",
      "19        76  2007      1\n",
      "20        76  2008      1\n",
      "21        76  2009      1\n",
      "22        76  2010      1\n",
      "23        76  2011      1\n",
      "24        76  2012      1\n",
      "25        76  2013      1\n",
      "26        76  2014      1\n",
      "27        76  2015      1\n",
      "28        76  2016      1\n",
      "29        76  2017      1\n",
      "30        76  2018      1\n",
      "31        76  2019      1\n",
      "32        76  2020      1\n",
      "33        76  2021      1\n",
      "34        76  2022      1\n",
      "35        76  2023      1\n",
      "36        83  2006      1\n",
      "37        83  2007      1\n",
      "38        83  2008      1\n",
      "39        83  2009      1\n",
      "40        83  2010      1\n",
      "41        83  2011      1\n",
      "42        83  2012      1\n",
      "43        83  2013      1\n",
      "44        83  2014      1\n",
      "45        83  2015      1\n",
      "46        83  2016      1\n",
      "47        83  2017      1\n",
      "48        83  2018      1\n",
      "49        83  2019      1\n",
      "50        83  2020      1\n",
      "51        83  2021      1\n",
      "52        83  2022      1\n",
      "53        83  2023      1\n"
     ]
    }
   ],
   "source": [
    "# Filtering the DataFrame for precincts 6, 76, and 83\n",
    "filtered_df = pre_ts_analysis[pre_ts_analysis['Precinct'].isin([6, 76, 83])]\n",
    "\n",
    "# Grouping by 'Precinct' and 'Year' and counting occurrences\n",
    "precinct_year_counts = filtered_df.groupby(['Precinct', 'Year']).size().reset_index(name='Count')\n",
    "\n",
    "# Display the DataFrame\n",
    "print(precinct_year_counts)"
   ]
  },
  {
   "cell_type": "markdown",
   "metadata": {},
   "source": [
    "## Define Violent and Crime, also calculate the percentage based crime and budget allocation on precinct level"
   ]
  },
  {
   "cell_type": "code",
   "execution_count": 5,
   "metadata": {},
   "outputs": [],
   "source": [
    "# Create 'Violent Crime' column\n",
    "pre_ts_analysis['Violent Crime'] = pre_ts_analysis['FELONY ASSAULT'] + pre_ts_analysis['MURDER & NON NEGL. MANSLAUGHTER'] + pre_ts_analysis['RAPE'] + pre_ts_analysis['ROBBERY']\n",
    "# Create 'Property Crime' column\n",
    "pre_ts_analysis['Property Crime'] = pre_ts_analysis['GRAND LARCENY'] + pre_ts_analysis['GRAND LARCENY OF MOTOR VEHICLE'] + pre_ts_analysis['BURGLARY']"
   ]
  },
  {
   "cell_type": "code",
   "execution_count": 6,
   "metadata": {},
   "outputs": [],
   "source": [
    "# Calculate yearly totals\n",
    "yearly_totals = pre_ts_analysis.groupby('Year').sum().reset_index()\n",
    "# List of metrics for which want to calculate yearly totals\n",
    "metrics = ['Violent Crime', 'Property Crime', 'Full Time Positions']\n",
    "# Rename columns to *_by_year\n",
    "yearly_totals = yearly_totals.rename(columns={metric: f\"{metric.lower()}_by_year\" for metric in metrics})\n",
    "# Merge yearly totals with merged_data\n",
    "merged_data = pd.merge(pre_ts_analysis, yearly_totals[['Year'] + [f\"{metric.lower()}_by_year\" for metric in metrics]], \n",
    "                       on='Year', how='left')\n",
    "\n",
    "# List of metrics for which to calculate yearly totals and per capita rates\n",
    "metrics = ['Violent Crime', 'Property Crime','Full Time Positions']\n",
    "# Loop through each metric\n",
    "for metric in metrics:\n",
    "    # Compute the per capita rate\n",
    "    per_capita_col_name = f\"{metric}_per_capita\"\n",
    "    merged_data[per_capita_col_name] = merged_data[metric] / merged_data['Population_Year']    \n",
    "    # Compute the percentage-based rate\n",
    "    pct_col_name = f\"{metric}_pct\"\n",
    "    yearly_col_name = f\"{metric.lower()}_by_year\"\n",
    "    merged_data[pct_col_name] = merged_data[metric] / merged_data[yearly_col_name]"
   ]
  },
  {
   "cell_type": "code",
   "execution_count": 7,
   "metadata": {},
   "outputs": [],
   "source": [
    "pre_ts_analysis = merged_data"
   ]
  },
  {
   "cell_type": "code",
   "execution_count": 8,
   "metadata": {},
   "outputs": [],
   "source": [
    "# Calculate yearly totals\n",
    "yearly_totals = pre_ts_analysis.groupby('Year').sum().reset_index()\n",
    "# List of metrics for which want to calculate yearly totals\n",
    "metrics = ['MURDER & NON NEGL. MANSLAUGHTER', 'RAPE', 'ROBBERY', 'FELONY ASSAULT', \n",
    "    'BURGLARY', 'GRAND LARCENY', 'GRAND LARCENY OF MOTOR VEHICLE', \n",
    "    'TOTAL SEVEN MAJOR FELONY OFFENSES', 'Budget','Population_Year']\n",
    "# Rename columns to *_by_year\n",
    "yearly_totals = yearly_totals.rename(columns={metric: f\"{metric.lower()}_by_year\" for metric in metrics})\n",
    "# Merge yearly totals with merged_data\n",
    "merged_data = pd.merge(pre_ts_analysis, yearly_totals[['Year'] + [f\"{metric.lower()}_by_year\" for metric in metrics]], \n",
    "                       on='Year', how='left')\n",
    "\n",
    "# List of metrics for which to calculate yearly totals and per capita rates\n",
    "metrics = ['MURDER & NON NEGL. MANSLAUGHTER', 'RAPE', 'ROBBERY', 'FELONY ASSAULT', \n",
    "    'BURGLARY', 'GRAND LARCENY', 'GRAND LARCENY OF MOTOR VEHICLE', \n",
    "    'TOTAL SEVEN MAJOR FELONY OFFENSES', 'Budget','Population_Year']\n",
    "# Loop through each metric\n",
    "for metric in metrics:\n",
    "    # Compute the per capita rate\n",
    "    per_capita_col_name = f\"{metric}_per_capita\"\n",
    "    merged_data[per_capita_col_name] = merged_data[metric] / merged_data['Population_Year']    \n",
    "    # Compute the percentage-based rate\n",
    "    pct_col_name = f\"{metric}_pct\"\n",
    "    yearly_col_name = f\"{metric.lower()}_by_year\"\n",
    "    merged_data[pct_col_name] = merged_data[metric] / merged_data[yearly_col_name]"
   ]
  },
  {
   "cell_type": "code",
   "execution_count": 9,
   "metadata": {},
   "outputs": [],
   "source": [
    "pre_ts_analysis = merged_data"
   ]
  },
  {
   "cell_type": "code",
   "execution_count": 10,
   "metadata": {},
   "outputs": [
    {
     "data": {
      "text/plain": [
       "0       0.007676\n",
       "1       0.006892\n",
       "2       0.007912\n",
       "3       0.007195\n",
       "4       0.009899\n",
       "          ...   \n",
       "1308    0.023993\n",
       "1309    0.020701\n",
       "1310    0.014278\n",
       "1311    0.016686\n",
       "1312    0.011588\n",
       "Name: Population_Year_pct, Length: 1313, dtype: float64"
      ]
     },
     "execution_count": 10,
     "metadata": {},
     "output_type": "execute_result"
    }
   ],
   "source": [
    "pre_ts_analysis['Population_Year_pct']"
   ]
  },
  {
   "cell_type": "code",
   "execution_count": 11,
   "metadata": {
    "scrolled": true
   },
   "outputs": [
    {
     "data": {
      "text/plain": [
       "Year\n",
       "2006    1.0\n",
       "2007    1.0\n",
       "2008    1.0\n",
       "2009    1.0\n",
       "2010    1.0\n",
       "2011    1.0\n",
       "2012    1.0\n",
       "2013    1.0\n",
       "2014    1.0\n",
       "2015    1.0\n",
       "2016    1.0\n",
       "2017    1.0\n",
       "2018    1.0\n",
       "2019    1.0\n",
       "2020    1.0\n",
       "2021    1.0\n",
       "2022    1.0\n",
       "2023    1.0\n",
       "Name: Population_Year_pct, dtype: float64"
      ]
     },
     "execution_count": 11,
     "metadata": {},
     "output_type": "execute_result"
    }
   ],
   "source": [
    "pre_ts_analysis.groupby('Year')['Population_Year_pct'].sum()"
   ]
  },
  {
   "cell_type": "code",
   "execution_count": null,
   "metadata": {},
   "outputs": [],
   "source": []
  },
  {
   "cell_type": "markdown",
   "metadata": {},
   "source": [
    "## Create lag 1 for meature previous one year for crime and budget variable"
   ]
  },
  {
   "cell_type": "code",
   "execution_count": 12,
   "metadata": {},
   "outputs": [],
   "source": [
    "# Get all columns ending with '_pct' or '_per_capita'\n",
    "cols_to_lag = [col for col in pre_ts_analysis.columns if col.endswith('_pct') or col.endswith('_per_capita')]\n",
    "\n",
    "# Loop through the columns and create a lag-1 column for each\n",
    "for col in cols_to_lag:\n",
    "    lag_col_name = col + '_lag1'  # Name of the new lag column\n",
    "    pre_ts_analysis[lag_col_name] = pre_ts_analysis.groupby('Precinct')[col].shift(1)"
   ]
  },
  {
   "cell_type": "code",
   "execution_count": 13,
   "metadata": {
    "scrolled": true
   },
   "outputs": [
    {
     "data": {
      "text/plain": [
       "Index(['Year', 'Precinct', 'Full Time Positions', 'Budget', 'Borough',\n",
       "       'MURDER & NON NEGL. MANSLAUGHTER', 'RAPE', 'ROBBERY', 'FELONY ASSAULT',\n",
       "       'BURGLARY', 'GRAND LARCENY', 'GRAND LARCENY OF MOTOR VEHICLE',\n",
       "       'TOTAL SEVEN MAJOR FELONY OFFENSES', 'Population_Year', 'Violent Crime',\n",
       "       'Property Crime', 'violent crime_by_year', 'property crime_by_year',\n",
       "       'full time positions_by_year', 'Violent Crime_per_capita',\n",
       "       'Violent Crime_pct', 'Property Crime_per_capita', 'Property Crime_pct',\n",
       "       'Full Time Positions_per_capita', 'Full Time Positions_pct',\n",
       "       'murder & non negl. manslaughter_by_year', 'rape_by_year',\n",
       "       'robbery_by_year', 'felony assault_by_year', 'burglary_by_year',\n",
       "       'grand larceny_by_year', 'grand larceny of motor vehicle_by_year',\n",
       "       'total seven major felony offenses_by_year', 'budget_by_year',\n",
       "       'population_year_by_year', 'MURDER & NON NEGL. MANSLAUGHTER_per_capita',\n",
       "       'MURDER & NON NEGL. MANSLAUGHTER_pct', 'RAPE_per_capita', 'RAPE_pct',\n",
       "       'ROBBERY_per_capita', 'ROBBERY_pct', 'FELONY ASSAULT_per_capita',\n",
       "       'FELONY ASSAULT_pct', 'BURGLARY_per_capita', 'BURGLARY_pct',\n",
       "       'GRAND LARCENY_per_capita', 'GRAND LARCENY_pct',\n",
       "       'GRAND LARCENY OF MOTOR VEHICLE_per_capita',\n",
       "       'GRAND LARCENY OF MOTOR VEHICLE_pct',\n",
       "       'TOTAL SEVEN MAJOR FELONY OFFENSES_per_capita',\n",
       "       'TOTAL SEVEN MAJOR FELONY OFFENSES_pct', 'Budget_per_capita',\n",
       "       'Budget_pct', 'Population_Year_per_capita', 'Population_Year_pct',\n",
       "       'Violent Crime_per_capita_lag1', 'Violent Crime_pct_lag1',\n",
       "       'Property Crime_per_capita_lag1', 'Property Crime_pct_lag1',\n",
       "       'Full Time Positions_per_capita_lag1', 'Full Time Positions_pct_lag1',\n",
       "       'MURDER & NON NEGL. MANSLAUGHTER_per_capita_lag1',\n",
       "       'MURDER & NON NEGL. MANSLAUGHTER_pct_lag1', 'RAPE_per_capita_lag1',\n",
       "       'RAPE_pct_lag1', 'ROBBERY_per_capita_lag1', 'ROBBERY_pct_lag1',\n",
       "       'FELONY ASSAULT_per_capita_lag1', 'FELONY ASSAULT_pct_lag1',\n",
       "       'BURGLARY_per_capita_lag1', 'BURGLARY_pct_lag1',\n",
       "       'GRAND LARCENY_per_capita_lag1', 'GRAND LARCENY_pct_lag1',\n",
       "       'GRAND LARCENY OF MOTOR VEHICLE_per_capita_lag1',\n",
       "       'GRAND LARCENY OF MOTOR VEHICLE_pct_lag1',\n",
       "       'TOTAL SEVEN MAJOR FELONY OFFENSES_per_capita_lag1',\n",
       "       'TOTAL SEVEN MAJOR FELONY OFFENSES_pct_lag1', 'Budget_per_capita_lag1',\n",
       "       'Budget_pct_lag1', 'Population_Year_per_capita_lag1',\n",
       "       'Population_Year_pct_lag1'],\n",
       "      dtype='object')"
      ]
     },
     "execution_count": 13,
     "metadata": {},
     "output_type": "execute_result"
    }
   ],
   "source": [
    "pre_ts_analysis.columns"
   ]
  },
  {
   "cell_type": "markdown",
   "metadata": {},
   "source": [
    "# Paper Analysis"
   ]
  },
  {
   "cell_type": "code",
   "execution_count": 14,
   "metadata": {
    "scrolled": true
   },
   "outputs": [
    {
     "name": "stdout",
     "output_type": "stream",
     "text": [
      "                            OLS Regression Results                            \n",
      "==============================================================================\n",
      "Dep. Variable:      Budget_per_capita   R-squared:                       0.941\n",
      "Model:                            OLS   Adj. R-squared:                  0.941\n",
      "Method:                 Least Squares   F-statistic:                     6542.\n",
      "Date:                Mon, 20 May 2024   Prob (F-statistic):               0.00\n",
      "Time:                        09:59:07   Log-Likelihood:                -5128.6\n",
      "No. Observations:                1240   AIC:                         1.027e+04\n",
      "Df Residuals:                    1236   BIC:                         1.029e+04\n",
      "Df Model:                           3                                         \n",
      "Covariance Type:            nonrobust                                         \n",
      "=======================================================================================================\n",
      "                                          coef    std err          t      P>|t|      [0.025      0.975]\n",
      "-------------------------------------------------------------------------------------------------------\n",
      "Intercept                               4.5956      1.304      3.523      0.000       2.036       7.155\n",
      "Q('Violent Crime_per_capita_lag1')   1098.0921    175.554      6.255      0.000     753.675    1442.509\n",
      "Q('Property Crime_per_capita_lag1')   439.8129    128.170      3.431      0.001     188.359     691.267\n",
      "Budget_per_capita_lag1                  0.9279      0.009    106.446      0.000       0.911       0.945\n",
      "==============================================================================\n",
      "Omnibus:                      663.709   Durbin-Watson:                   1.385\n",
      "Prob(Omnibus):                  0.000   Jarque-Bera (JB):            85717.110\n",
      "Skew:                           1.461   Prob(JB):                         0.00\n",
      "Kurtosis:                      43.626   Cond. No.                     6.77e+04\n",
      "==============================================================================\n",
      "\n",
      "Notes:\n",
      "[1] Standard Errors assume that the covariance matrix of the errors is correctly specified.\n",
      "[2] The condition number is large, 6.77e+04. This might indicate that there are\n",
      "strong multicollinearity or other numerical problems.\n"
     ]
    }
   ],
   "source": [
    "# Creating a lagged version of the Violent and Property Crime\n",
    "\n",
    "# Defining the regression formula\n",
    "regression_formula = \"Budget_per_capita ~ Q('Violent Crime_per_capita_lag1') + Q('Property Crime_per_capita_lag1') + Budget_per_capita_lag1\"\n",
    "\n",
    "# Running the regression\n",
    "model = smf.ols(formula=regression_formula, data=pre_ts_analysis).fit()\n",
    "print(model.summary())"
   ]
  },
  {
   "cell_type": "code",
   "execution_count": 15,
   "metadata": {},
   "outputs": [
    {
     "name": "stdout",
     "output_type": "stream",
     "text": [
      "                            OLS Regression Results                            \n",
      "==============================================================================\n",
      "Dep. Variable:             Budget_pct   R-squared:                       0.590\n",
      "Model:                            OLS   Adj. R-squared:                  0.589\n",
      "Method:                 Least Squares   F-statistic:                     889.9\n",
      "Date:                Mon, 20 May 2024   Prob (F-statistic):          3.44e-240\n",
      "Time:                        09:59:07   Log-Likelihood:                 5869.7\n",
      "No. Observations:                1240   AIC:                        -1.173e+04\n",
      "Df Residuals:                    1237   BIC:                        -1.172e+04\n",
      "Df Model:                           2                                         \n",
      "Covariance Type:            nonrobust                                         \n",
      "================================================================================================\n",
      "                                   coef    std err          t      P>|t|      [0.025      0.975]\n",
      "------------------------------------------------------------------------------------------------\n",
      "Intercept                        0.0087      0.000     50.713      0.000       0.008       0.009\n",
      "Q('Violent Crime_pct_lag1')      0.2852      0.008     35.563      0.000       0.269       0.301\n",
      "Q('Property Crime_pct_lag1')     0.0821      0.012      6.709      0.000       0.058       0.106\n",
      "==============================================================================\n",
      "Omnibus:                      542.979   Durbin-Watson:                   1.795\n",
      "Prob(Omnibus):                  0.000   Jarque-Bera (JB):             3359.102\n",
      "Skew:                           1.935   Prob(JB):                         0.00\n",
      "Kurtosis:                      10.074   Cond. No.                         212.\n",
      "==============================================================================\n",
      "\n",
      "Notes:\n",
      "[1] Standard Errors assume that the covariance matrix of the errors is correctly specified.\n"
     ]
    }
   ],
   "source": [
    "# Creating a lagged version of the Violent and Property Crime pct\n",
    "\n",
    "# Defining the regression formula\n",
    "regression_formula = \"Budget_pct ~ Q('Violent Crime_pct_lag1') + Q('Property Crime_pct_lag1')\"\n",
    "\n",
    "# Running the regression\n",
    "model = smf.ols(formula=regression_formula, data=pre_ts_analysis).fit()\n",
    "print(model.summary())"
   ]
  },
  {
   "cell_type": "markdown",
   "metadata": {},
   "source": [
    "## Paper findings: Vio+Property"
   ]
  },
  {
   "cell_type": "code",
   "execution_count": 16,
   "metadata": {
    "scrolled": false
   },
   "outputs": [
    {
     "name": "stdout",
     "output_type": "stream",
     "text": [
      "                            OLS Regression Results                            \n",
      "==============================================================================\n",
      "Dep. Variable:             Budget_pct   R-squared:                       0.908\n",
      "Model:                            OLS   Adj. R-squared:                  0.907\n",
      "Method:                 Least Squares   F-statistic:                     4045.\n",
      "Date:                Mon, 20 May 2024   Prob (F-statistic):               0.00\n",
      "Time:                        09:59:07   Log-Likelihood:                 6793.4\n",
      "No. Observations:                1240   AIC:                        -1.358e+04\n",
      "Df Residuals:                    1236   BIC:                        -1.356e+04\n",
      "Df Model:                           3                                         \n",
      "Covariance Type:            nonrobust                                         \n",
      "================================================================================================\n",
      "                                   coef    std err          t      P>|t|      [0.025      0.975]\n",
      "------------------------------------------------------------------------------------------------\n",
      "Intercept                        0.0010      0.000      6.946      0.000       0.001       0.001\n",
      "Q('Violent Crime_pct_lag1')      0.0376      0.005      6.983      0.000       0.027       0.048\n",
      "Q('Property Crime_pct_lag1')     0.0097      0.006      1.646      0.100      -0.002       0.021\n",
      "Budget_pct_lag1                  0.8802      0.014     65.168      0.000       0.854       0.907\n",
      "==============================================================================\n",
      "Omnibus:                      601.863   Durbin-Watson:                   1.936\n",
      "Prob(Omnibus):                  0.000   Jarque-Bera (JB):           216419.647\n",
      "Skew:                           0.945   Prob(JB):                         0.00\n",
      "Kurtosis:                      67.693   Cond. No.                         491.\n",
      "==============================================================================\n",
      "\n",
      "Notes:\n",
      "[1] Standard Errors assume that the covariance matrix of the errors is correctly specified.\n"
     ]
    }
   ],
   "source": [
    "# Creating a lagged version of the Violent and Property Crime pct\n",
    "\n",
    "# Defining the regression formula\n",
    "regression_formula = \"Budget_pct ~ Q('Violent Crime_pct_lag1') + Q('Property Crime_pct_lag1') + Budget_pct_lag1\"\n",
    "\n",
    "# Running the regression\n",
    "model = smf.ols(formula=regression_formula, data=pre_ts_analysis).fit()\n",
    "print(model.summary())"
   ]
  },
  {
   "cell_type": "code",
   "execution_count": null,
   "metadata": {},
   "outputs": [],
   "source": []
  },
  {
   "cell_type": "code",
   "execution_count": 17,
   "metadata": {},
   "outputs": [],
   "source": [
    "filtered_pre_ts_analysis = pre_ts_analysis[(pre_ts_analysis['Year'] >= 2007) & (pre_ts_analysis['Year'] <= 2023)]\n"
   ]
  },
  {
   "cell_type": "code",
   "execution_count": 18,
   "metadata": {},
   "outputs": [],
   "source": [
    "# Reset display options to default\n",
    "pd.reset_option('display.max_rows')\n",
    "pd.reset_option('display.max_columns')"
   ]
  },
  {
   "cell_type": "code",
   "execution_count": 19,
   "metadata": {},
   "outputs": [
    {
     "name": "stdout",
     "output_type": "stream",
     "text": [
      "                  Variable        VIF\n",
      "0   Violent Crime_pct_lag1   6.895170\n",
      "1  Property Crime_pct_lag1   8.626746\n",
      "2          Budget_pct_lag1  14.148611\n"
     ]
    }
   ],
   "source": [
    "predictors_df_2 = filtered_pre_ts_analysis[['Violent Crime_pct_lag1','Property Crime_pct_lag1','Budget_pct_lag1']]\n",
    "# Add a constant to the model (intercept)\n",
    "\n",
    "# Calculate VIF for each predictor variable\n",
    "vif = pd.DataFrame()\n",
    "vif[\"Variable\"] = predictors_df_2.columns\n",
    "vif[\"VIF\"] = [variance_inflation_factor(predictors_df_2.values, i) for i in range(predictors_df_2.shape[1])]\n",
    "\n",
    "print(vif)"
   ]
  },
  {
   "cell_type": "code",
   "execution_count": null,
   "metadata": {},
   "outputs": [],
   "source": []
  },
  {
   "cell_type": "code",
   "execution_count": null,
   "metadata": {},
   "outputs": [],
   "source": []
  },
  {
   "cell_type": "markdown",
   "metadata": {},
   "source": [
    "## Paper findings: Vio+Property S"
   ]
  },
  {
   "cell_type": "code",
   "execution_count": 20,
   "metadata": {
    "scrolled": true
   },
   "outputs": [
    {
     "name": "stdout",
     "output_type": "stream",
     "text": [
      "                            OLS Regression Results                            \n",
      "==============================================================================\n",
      "Dep. Variable:             Budget_pct   R-squared:                       0.908\n",
      "Model:                            OLS   Adj. R-squared:                  0.907\n",
      "Method:                 Least Squares   F-statistic:                     4045.\n",
      "Date:                Mon, 20 May 2024   Prob (F-statistic):               0.00\n",
      "Time:                        09:59:07   Log-Likelihood:                -282.62\n",
      "No. Observations:                1240   AIC:                             573.2\n",
      "Df Residuals:                    1236   BIC:                             593.7\n",
      "Df Model:                           3                                         \n",
      "Covariance Type:            nonrobust                                         \n",
      "===========================================================================================\n",
      "                              coef    std err          t      P>|t|      [0.025      0.975]\n",
      "-------------------------------------------------------------------------------------------\n",
      "const                   -9.454e-17      0.009  -1.09e-14      1.000      -0.017       0.017\n",
      "Violent Crime_pct_lag1      0.0929      0.013      6.983      0.000       0.067       0.119\n",
      "Property Crime_pct_lag1     0.0158      0.010      1.646      0.100      -0.003       0.035\n",
      "Budget_pct_lag1             0.8735      0.013     65.168      0.000       0.847       0.900\n",
      "==============================================================================\n",
      "Omnibus:                      601.863   Durbin-Watson:                   1.936\n",
      "Prob(Omnibus):                  0.000   Jarque-Bera (JB):           216419.647\n",
      "Skew:                           0.945   Prob(JB):                         0.00\n",
      "Kurtosis:                      67.693   Cond. No.                         2.90\n",
      "==============================================================================\n",
      "\n",
      "Notes:\n",
      "[1] Standard Errors assume that the covariance matrix of the errors is correctly specified.\n"
     ]
    }
   ],
   "source": [
    "\n",
    "\n",
    "\n",
    "# Assuming 'filtered_pre_ts_analysis' is your DataFrame with proper columns.\n",
    "X = filtered_pre_ts_analysis[['Violent Crime_pct_lag1', 'Property Crime_pct_lag1', 'Budget_pct_lag1']]\n",
    "y = filtered_pre_ts_analysis['Budget_pct']\n",
    "\n",
    "# Standardize the features\n",
    "scaler = StandardScaler()\n",
    "X_standardized = scaler.fit_transform(X)\n",
    "X_standardized = pd.DataFrame(X_standardized, columns=X.columns, index=X.index)  # Match the indices\n",
    "\n",
    "# Standardize the dependent variable\n",
    "y_mean = y.mean()\n",
    "y_std = y.std()\n",
    "y_standardized = (y - y_mean) / y_std\n",
    "y_standardized.index = X.index  # Ensure the indices are the same\n",
    "\n",
    "# Add a constant to the model (intercept)\n",
    "X_standardized = sm.add_constant(X_standardized)  # This will now retain the column names and index\n",
    "\n",
    "# Fit the OLS model with standardized variables\n",
    "model_standardized = sm.OLS(y_standardized, X_standardized).fit()\n",
    "\n",
    "# Fit the OLS regression model\n",
    "print(model_standardized.summary())"
   ]
  },
  {
   "cell_type": "code",
   "execution_count": 21,
   "metadata": {},
   "outputs": [
    {
     "name": "stdout",
     "output_type": "stream",
     "text": [
      "                            OLS Regression Results                            \n",
      "==============================================================================\n",
      "Dep. Variable:             Budget_pct   R-squared:                       0.908\n",
      "Model:                            OLS   Adj. R-squared:                  0.908\n",
      "Method:                 Least Squares   F-statistic:                     3041.\n",
      "Date:                Mon, 20 May 2024   Prob (F-statistic):               0.00\n",
      "Time:                        09:59:07   Log-Likelihood:                -280.79\n",
      "No. Observations:                1240   AIC:                             571.6\n",
      "Df Residuals:                    1235   BIC:                             597.2\n",
      "Df Model:                           4                                         \n",
      "Covariance Type:            nonrobust                                         \n",
      "============================================================================================\n",
      "                               coef    std err          t      P>|t|      [0.025      0.975]\n",
      "--------------------------------------------------------------------------------------------\n",
      "const                    -9.454e-17      0.009  -1.09e-14      1.000      -0.017       0.017\n",
      "Violent Crime_pct_lag1       0.0932      0.013      7.015      0.000       0.067       0.119\n",
      "Property Crime_pct_lag1      0.0033      0.012      0.287      0.774      -0.019       0.026\n",
      "Budget_pct_lag1              0.8705      0.013     64.581      0.000       0.844       0.897\n",
      "Population_Year_pct_lag1     0.0215      0.011      1.909      0.056      -0.001       0.044\n",
      "==============================================================================\n",
      "Omnibus:                      636.482   Durbin-Watson:                   1.947\n",
      "Prob(Omnibus):                  0.000   Jarque-Bera (JB):           218583.590\n",
      "Skew:                           1.097   Prob(JB):                         0.00\n",
      "Kurtosis:                      68.006   Cond. No.                         3.17\n",
      "==============================================================================\n",
      "\n",
      "Notes:\n",
      "[1] Standard Errors assume that the covariance matrix of the errors is correctly specified.\n"
     ]
    }
   ],
   "source": [
    "# Assuming 'filtered_pre_ts_analysis' is your DataFrame with proper columns.\n",
    "X = filtered_pre_ts_analysis[['Violent Crime_pct_lag1', 'Property Crime_pct_lag1', 'Budget_pct_lag1','Population_Year_pct_lag1']]\n",
    "y = filtered_pre_ts_analysis['Budget_pct']\n",
    "\n",
    "# Standardize the features\n",
    "scaler = StandardScaler()\n",
    "X_standardized = scaler.fit_transform(X)\n",
    "X_standardized = pd.DataFrame(X_standardized, columns=X.columns, index=X.index)  # Match the indices\n",
    "\n",
    "# Standardize the dependent variable\n",
    "y_mean = y.mean()\n",
    "y_std = y.std()\n",
    "y_standardized = (y - y_mean) / y_std\n",
    "y_standardized.index = X.index  # Ensure the indices are the same\n",
    "\n",
    "# Add a constant to the model (intercept)\n",
    "X_standardized = sm.add_constant(X_standardized)  # This will now retain the column names and index\n",
    "\n",
    "# Fit the OLS model with standardized variables\n",
    "model_standardized = sm.OLS(y_standardized, X_standardized).fit()\n",
    "\n",
    "# Fit the OLS regression model\n",
    "print(model_standardized.summary())"
   ]
  },
  {
   "cell_type": "code",
   "execution_count": 22,
   "metadata": {},
   "outputs": [
    {
     "name": "stdout",
     "output_type": "stream",
     "text": [
      "                            OLS Regression Results                            \n",
      "==============================================================================\n",
      "Dep. Variable:             Budget_pct   R-squared:                       0.594\n",
      "Model:                            OLS   Adj. R-squared:                  0.593\n",
      "Method:                 Least Squares   F-statistic:                     904.3\n",
      "Date:                Mon, 20 May 2024   Prob (F-statistic):          9.42e-243\n",
      "Time:                        09:59:07   Log-Likelihood:                -1200.3\n",
      "No. Observations:                1240   AIC:                             2407.\n",
      "Df Residuals:                    1237   BIC:                             2422.\n",
      "Df Model:                           2                                         \n",
      "Covariance Type:            nonrobust                                         \n",
      "============================================================================================\n",
      "                               coef    std err          t      P>|t|      [0.025      0.975]\n",
      "--------------------------------------------------------------------------------------------\n",
      "const                    -9.454e-17      0.018  -5.22e-15      1.000      -0.036       0.036\n",
      "Violent Crime_pct_lag1       0.7119      0.019     37.250      0.000       0.674       0.749\n",
      "Population_Year_pct_lag1     0.1447      0.019      7.570      0.000       0.107       0.182\n",
      "==============================================================================\n",
      "Omnibus:                      551.401   Durbin-Watson:                   1.859\n",
      "Prob(Omnibus):                  0.000   Jarque-Bera (JB):             3827.668\n",
      "Skew:                           1.926   Prob(JB):                         0.00\n",
      "Kurtosis:                      10.697   Cond. No.                         1.39\n",
      "==============================================================================\n",
      "\n",
      "Notes:\n",
      "[1] Standard Errors assume that the covariance matrix of the errors is correctly specified.\n"
     ]
    }
   ],
   "source": [
    "# Assuming 'filtered_pre_ts_analysis' is your DataFrame with proper columns.\n",
    "X = filtered_pre_ts_analysis[['Violent Crime_pct_lag1','Population_Year_pct_lag1']]\n",
    "y = filtered_pre_ts_analysis['Budget_pct']\n",
    "\n",
    "# Standardize the features\n",
    "scaler = StandardScaler()\n",
    "X_standardized = scaler.fit_transform(X)\n",
    "X_standardized = pd.DataFrame(X_standardized, columns=X.columns, index=X.index)  # Match the indices\n",
    "\n",
    "# Standardize the dependent variable\n",
    "y_mean = y.mean()\n",
    "y_std = y.std()\n",
    "y_standardized = (y - y_mean) / y_std\n",
    "y_standardized.index = X.index  # Ensure the indices are the same\n",
    "\n",
    "# Add a constant to the model (intercept)\n",
    "X_standardized = sm.add_constant(X_standardized)  # This will now retain the column names and index\n",
    "\n",
    "# Fit the OLS model with standardized variables\n",
    "model_standardized = sm.OLS(y_standardized, X_standardized).fit()\n",
    "\n",
    "# Fit the OLS regression model\n",
    "print(model_standardized.summary())"
   ]
  },
  {
   "cell_type": "code",
   "execution_count": 23,
   "metadata": {},
   "outputs": [
    {
     "name": "stdout",
     "output_type": "stream",
     "text": [
      "                            OLS Regression Results                            \n",
      "==============================================================================\n",
      "Dep. Variable:             Budget_pct   R-squared:                       0.904\n",
      "Model:                            OLS   Adj. R-squared:                  0.904\n",
      "Method:                 Least Squares   F-statistic:                     5828.\n",
      "Date:                Mon, 20 May 2024   Prob (F-statistic):               0.00\n",
      "Time:                        09:59:07   Log-Likelihood:                -305.69\n",
      "No. Observations:                1240   AIC:                             617.4\n",
      "Df Residuals:                    1237   BIC:                             632.7\n",
      "Df Model:                           2                                         \n",
      "Covariance Type:            nonrobust                                         \n",
      "============================================================================================\n",
      "                               coef    std err          t      P>|t|      [0.025      0.975]\n",
      "--------------------------------------------------------------------------------------------\n",
      "const                    -9.454e-17      0.009  -1.07e-14      1.000      -0.017       0.017\n",
      "Budget_pct_lag1              0.9399      0.009     99.367      0.000       0.921       0.958\n",
      "Population_Year_pct_lag1     0.0280      0.009      2.956      0.003       0.009       0.047\n",
      "==============================================================================\n",
      "Omnibus:                      479.931   Durbin-Watson:                   1.950\n",
      "Prob(Omnibus):                  0.000   Jarque-Bera (JB):           245362.666\n",
      "Skew:                           0.195   Prob(JB):                         0.00\n",
      "Kurtosis:                      71.912   Cond. No.                         1.47\n",
      "==============================================================================\n",
      "\n",
      "Notes:\n",
      "[1] Standard Errors assume that the covariance matrix of the errors is correctly specified.\n"
     ]
    }
   ],
   "source": [
    "# Assuming 'filtered_pre_ts_analysis' is your DataFrame with proper columns.\n",
    "X = filtered_pre_ts_analysis[[ 'Budget_pct_lag1','Population_Year_pct_lag1']]\n",
    "y = filtered_pre_ts_analysis['Budget_pct']\n",
    "\n",
    "# Standardize the features\n",
    "scaler = StandardScaler()\n",
    "X_standardized = scaler.fit_transform(X)\n",
    "X_standardized = pd.DataFrame(X_standardized, columns=X.columns, index=X.index)  # Match the indices\n",
    "\n",
    "# Standardize the dependent variable\n",
    "y_mean = y.mean()\n",
    "y_std = y.std()\n",
    "y_standardized = (y - y_mean) / y_std\n",
    "y_standardized.index = X.index  # Ensure the indices are the same\n",
    "\n",
    "# Add a constant to the model (intercept)\n",
    "X_standardized = sm.add_constant(X_standardized)  # This will now retain the column names and index\n",
    "\n",
    "# Fit the OLS model with standardized variables\n",
    "model_standardized = sm.OLS(y_standardized, X_standardized).fit()\n",
    "\n",
    "# Fit the OLS regression model\n",
    "print(model_standardized.summary())"
   ]
  },
  {
   "cell_type": "code",
   "execution_count": 24,
   "metadata": {},
   "outputs": [
    {
     "name": "stdout",
     "output_type": "stream",
     "text": [
      "                            OLS Regression Results                            \n",
      "==============================================================================\n",
      "Dep. Variable:             Budget_pct   R-squared:                       0.138\n",
      "Model:                            OLS   Adj. R-squared:                  0.138\n",
      "Method:                 Least Squares   F-statistic:                     198.6\n",
      "Date:                Mon, 20 May 2024   Prob (F-statistic):           6.08e-42\n",
      "Time:                        09:59:07   Log-Likelihood:                -1666.7\n",
      "No. Observations:                1240   AIC:                             3337.\n",
      "Df Residuals:                    1238   BIC:                             3348.\n",
      "Df Model:                           1                                         \n",
      "Covariance Type:            nonrobust                                         \n",
      "============================================================================================\n",
      "                               coef    std err          t      P>|t|      [0.025      0.975]\n",
      "--------------------------------------------------------------------------------------------\n",
      "const                    -9.454e-17      0.026  -3.58e-15      1.000      -0.052       0.052\n",
      "Population_Year_pct_lag1     0.3717      0.026     14.093      0.000       0.320       0.423\n",
      "==============================================================================\n",
      "Omnibus:                      274.186   Durbin-Watson:                   1.861\n",
      "Prob(Omnibus):                  0.000   Jarque-Bera (JB):              597.263\n",
      "Skew:                           1.234   Prob(JB):                    2.02e-130\n",
      "Kurtosis:                       5.339   Cond. No.                         1.00\n",
      "==============================================================================\n",
      "\n",
      "Notes:\n",
      "[1] Standard Errors assume that the covariance matrix of the errors is correctly specified.\n"
     ]
    }
   ],
   "source": [
    "# Assuming 'filtered_pre_ts_analysis' is your DataFrame with proper columns.\n",
    "X = filtered_pre_ts_analysis[[ 'Population_Year_pct_lag1']]\n",
    "y = filtered_pre_ts_analysis['Budget_pct']\n",
    "\n",
    "# Standardize the features\n",
    "scaler = StandardScaler()\n",
    "X_standardized = scaler.fit_transform(X)\n",
    "X_standardized = pd.DataFrame(X_standardized, columns=X.columns, index=X.index)  # Match the indices\n",
    "\n",
    "# Standardize the dependent variable\n",
    "y_mean = y.mean()\n",
    "y_std = y.std()\n",
    "y_standardized = (y - y_mean) / y_std\n",
    "y_standardized.index = X.index  # Ensure the indices are the same\n",
    "\n",
    "# Add a constant to the model (intercept)\n",
    "X_standardized = sm.add_constant(X_standardized)  # This will now retain the column names and index\n",
    "\n",
    "# Fit the OLS model with standardized variables\n",
    "model_standardized = sm.OLS(y_standardized, X_standardized).fit()\n",
    "\n",
    "# Fit the OLS regression model\n",
    "print(model_standardized.summary())"
   ]
  },
  {
   "cell_type": "code",
   "execution_count": 25,
   "metadata": {},
   "outputs": [
    {
     "name": "stdout",
     "output_type": "stream",
     "text": [
      "                   Variable        VIF\n",
      "0    Violent Crime_pct_lag1   6.923662\n",
      "1   Property Crime_pct_lag1  13.151147\n",
      "2           Budget_pct_lag1  15.733048\n",
      "3  Population_Year_pct_lag1  11.152316\n"
     ]
    }
   ],
   "source": [
    "predictors_df_2 = filtered_pre_ts_analysis[['Violent Crime_pct_lag1', 'Property Crime_pct_lag1', 'Budget_pct_lag1','Population_Year_pct_lag1']]\n",
    "# Add a constant to the model (intercept)\n",
    "\n",
    "# Calculate VIF for each predictor variable\n",
    "vif = pd.DataFrame()\n",
    "vif[\"Variable\"] = predictors_df_2.columns\n",
    "vif[\"VIF\"] = [variance_inflation_factor(predictors_df_2.values, i) for i in range(predictors_df_2.shape[1])]\n",
    "\n",
    "print(vif)"
   ]
  },
  {
   "cell_type": "code",
   "execution_count": 26,
   "metadata": {},
   "outputs": [
    {
     "name": "stdout",
     "output_type": "stream",
     "text": [
      "                   Variable        VIF\n",
      "0    Violent Crime_pct_lag1   4.331113\n",
      "1   Property Crime_pct_lag1  11.408721\n",
      "2  Population_Year_pct_lag1  10.029193\n"
     ]
    }
   ],
   "source": [
    "predictors_df_2 = filtered_pre_ts_analysis[['Violent Crime_pct_lag1', 'Property Crime_pct_lag1', 'Population_Year_pct_lag1']]\n",
    "# Add a constant to the model (intercept)\n",
    "\n",
    "# Calculate VIF for each predictor variable\n",
    "vif = pd.DataFrame()\n",
    "vif[\"Variable\"] = predictors_df_2.columns\n",
    "vif[\"VIF\"] = [variance_inflation_factor(predictors_df_2.values, i) for i in range(predictors_df_2.shape[1])]\n",
    "\n",
    "print(vif)"
   ]
  },
  {
   "cell_type": "code",
   "execution_count": 27,
   "metadata": {},
   "outputs": [
    {
     "name": "stdout",
     "output_type": "stream",
     "text": [
      "                   Variable       VIF\n",
      "0    Violent Crime_pct_lag1  3.692949\n",
      "1  Population_Year_pct_lag1  3.692949\n"
     ]
    }
   ],
   "source": [
    "predictors_df_2 = filtered_pre_ts_analysis[['Violent Crime_pct_lag1',  'Population_Year_pct_lag1']]\n",
    "# Add a constant to the model (intercept)\n",
    "\n",
    "# Calculate VIF for each predictor variable\n",
    "vif = pd.DataFrame()\n",
    "vif[\"Variable\"] = predictors_df_2.columns\n",
    "vif[\"VIF\"] = [variance_inflation_factor(predictors_df_2.values, i) for i in range(predictors_df_2.shape[1])]\n",
    "\n",
    "print(vif)"
   ]
  },
  {
   "cell_type": "code",
   "execution_count": 28,
   "metadata": {},
   "outputs": [
    {
     "name": "stdout",
     "output_type": "stream",
     "text": [
      "                   Variable       VIF\n",
      "0           Budget_pct_lag1  7.306203\n",
      "1  Population_Year_pct_lag1  7.306203\n"
     ]
    }
   ],
   "source": [
    "predictors_df_2 = filtered_pre_ts_analysis[['Budget_pct_lag1',  'Population_Year_pct_lag1']]\n",
    "# Add a constant to the model (intercept)\n",
    "\n",
    "# Calculate VIF for each predictor variable\n",
    "vif = pd.DataFrame()\n",
    "vif[\"Variable\"] = predictors_df_2.columns\n",
    "vif[\"VIF\"] = [variance_inflation_factor(predictors_df_2.values, i) for i in range(predictors_df_2.shape[1])]\n",
    "\n",
    "print(vif)"
   ]
  },
  {
   "cell_type": "code",
   "execution_count": 29,
   "metadata": {},
   "outputs": [
    {
     "name": "stdout",
     "output_type": "stream",
     "text": [
      "                            OLS Regression Results                            \n",
      "==============================================================================\n",
      "Dep. Variable:             Budget_pct   R-squared:                       0.590\n",
      "Model:                            OLS   Adj. R-squared:                  0.589\n",
      "Method:                 Least Squares   F-statistic:                     889.9\n",
      "Date:                Mon, 20 May 2024   Prob (F-statistic):          3.44e-240\n",
      "Time:                        09:59:08   Log-Likelihood:                -1206.3\n",
      "No. Observations:                1240   AIC:                             2419.\n",
      "Df Residuals:                    1237   BIC:                             2434.\n",
      "Df Model:                           2                                         \n",
      "Covariance Type:            nonrobust                                         \n",
      "===========================================================================================\n",
      "                              coef    std err          t      P>|t|      [0.025      0.975]\n",
      "-------------------------------------------------------------------------------------------\n",
      "const                   -9.454e-17      0.018  -5.19e-15      1.000      -0.036       0.036\n",
      "Violent Crime_pct_lag1      0.7052      0.020     35.563      0.000       0.666       0.744\n",
      "Property Crime_pct_lag1     0.1330      0.020      6.709      0.000       0.094       0.172\n",
      "==============================================================================\n",
      "Omnibus:                      542.979   Durbin-Watson:                   1.795\n",
      "Prob(Omnibus):                  0.000   Jarque-Bera (JB):             3359.102\n",
      "Skew:                           1.935   Prob(JB):                         0.00\n",
      "Kurtosis:                      10.074   Cond. No.                         1.52\n",
      "==============================================================================\n",
      "\n",
      "Notes:\n",
      "[1] Standard Errors assume that the covariance matrix of the errors is correctly specified.\n"
     ]
    }
   ],
   "source": [
    "# Assuming 'filtered_pre_ts_analysis' is your DataFrame with proper columns.\n",
    "X = filtered_pre_ts_analysis[['Violent Crime_pct_lag1', 'Property Crime_pct_lag1']]\n",
    "y = filtered_pre_ts_analysis['Budget_pct']\n",
    "\n",
    "# Standardize the features\n",
    "scaler = StandardScaler()\n",
    "X_standardized = scaler.fit_transform(X)\n",
    "X_standardized = pd.DataFrame(X_standardized, columns=X.columns, index=X.index)  # Match the indices\n",
    "\n",
    "# Standardize the dependent variable\n",
    "y_mean = y.mean()\n",
    "y_std = y.std()\n",
    "y_standardized = (y - y_mean) / y_std\n",
    "y_standardized.index = X.index  # Ensure the indices are the same\n",
    "\n",
    "# Add a constant to the model (intercept)\n",
    "X_standardized = sm.add_constant(X_standardized)  # This will now retain the column names and index\n",
    "\n",
    "# Fit the OLS model with standardized variables\n",
    "model_standardized = sm.OLS(y_standardized, X_standardized).fit()\n",
    "\n",
    "# Fit the OLS regression model\n",
    "print(model_standardized.summary())"
   ]
  },
  {
   "cell_type": "code",
   "execution_count": 30,
   "metadata": {},
   "outputs": [
    {
     "name": "stdout",
     "output_type": "stream",
     "text": [
      "                            OLS Regression Results                            \n",
      "==============================================================================\n",
      "Dep. Variable:             Budget_pct   R-squared:                       0.903\n",
      "Model:                            OLS   Adj. R-squared:                  0.903\n",
      "Method:                 Least Squares   F-statistic:                 1.158e+04\n",
      "Date:                Mon, 20 May 2024   Prob (F-statistic):               0.00\n",
      "Time:                        09:59:08   Log-Likelihood:                -310.05\n",
      "No. Observations:                1240   AIC:                             624.1\n",
      "Df Residuals:                    1238   BIC:                             634.4\n",
      "Df Model:                           1                                         \n",
      "Covariance Type:            nonrobust                                         \n",
      "===================================================================================\n",
      "                      coef    std err          t      P>|t|      [0.025      0.975]\n",
      "-----------------------------------------------------------------------------------\n",
      "const           -9.454e-17      0.009  -1.07e-14      1.000      -0.017       0.017\n",
      "Budget_pct_lag1     0.9501      0.009    107.588      0.000       0.933       0.967\n",
      "==============================================================================\n",
      "Omnibus:                      473.355   Durbin-Watson:                   1.943\n",
      "Prob(Omnibus):                  0.000   Jarque-Bera (JB):           250608.751\n",
      "Skew:                           0.003   Prob(JB):                         0.00\n",
      "Kurtosis:                      72.645   Cond. No.                         1.00\n",
      "==============================================================================\n",
      "\n",
      "Notes:\n",
      "[1] Standard Errors assume that the covariance matrix of the errors is correctly specified.\n"
     ]
    }
   ],
   "source": [
    "# Assuming 'filtered_pre_ts_analysis' is your DataFrame with proper columns.\n",
    "X = filtered_pre_ts_analysis[['Budget_pct_lag1']]\n",
    "y = filtered_pre_ts_analysis['Budget_pct']\n",
    "\n",
    "# Standardize the features\n",
    "scaler = StandardScaler()\n",
    "X_standardized = scaler.fit_transform(X)\n",
    "X_standardized = pd.DataFrame(X_standardized, columns=X.columns, index=X.index)  # Match the indices\n",
    "\n",
    "# Standardize the dependent variable\n",
    "y_mean = y.mean()\n",
    "y_std = y.std()\n",
    "y_standardized = (y - y_mean) / y_std\n",
    "y_standardized.index = X.index  # Ensure the indices are the same\n",
    "\n",
    "# Add a constant to the model (intercept)\n",
    "X_standardized = sm.add_constant(X_standardized)  # This will now retain the column names and index\n",
    "\n",
    "# Fit the OLS model with standardized variables\n",
    "model_standardized = sm.OLS(y_standardized, X_standardized).fit()\n",
    "\n",
    "# Fit the OLS regression model\n",
    "print(model_standardized.summary())"
   ]
  },
  {
   "cell_type": "code",
   "execution_count": null,
   "metadata": {},
   "outputs": [],
   "source": []
  },
  {
   "cell_type": "code",
   "execution_count": null,
   "metadata": {},
   "outputs": [],
   "source": []
  },
  {
   "cell_type": "markdown",
   "metadata": {},
   "source": [
    "## Paper Findings: VIF"
   ]
  },
  {
   "cell_type": "code",
   "execution_count": 31,
   "metadata": {},
   "outputs": [
    {
     "name": "stdout",
     "output_type": "stream",
     "text": [
      "                                   Variable        VIF\n",
      "0                    GRAND LARCENY_pct_lag1   7.986383\n",
      "1                         BURGLARY_pct_lag1  17.792775\n",
      "2   GRAND LARCENY OF MOTOR VEHICLE_pct_lag1  12.042410\n",
      "3                   FELONY ASSAULT_pct_lag1  33.215779\n",
      "4  MURDER & NON NEGL. MANSLAUGHTER_pct_lag1   6.617555\n",
      "5                             RAPE_pct_lag1  13.569439\n",
      "6                          ROBBERY_pct_lag1  33.704319\n",
      "7                           Budget_pct_lag1  18.737731\n",
      "8                       Population_Year_pct  17.850519\n"
     ]
    }
   ],
   "source": [
    "predictors_df_2 = filtered_pre_ts_analysis[['GRAND LARCENY_pct_lag1','BURGLARY_pct_lag1','GRAND LARCENY OF MOTOR VEHICLE_pct_lag1','FELONY ASSAULT_pct_lag1','MURDER & NON NEGL. MANSLAUGHTER_pct_lag1','RAPE_pct_lag1', 'ROBBERY_pct_lag1', 'Budget_pct_lag1','Population_Year_pct']]\n",
    "# Add a constant to the model (intercept)\n",
    "\n",
    "# Calculate VIF for each predictor variable\n",
    "vif = pd.DataFrame()\n",
    "vif[\"Variable\"] = predictors_df_2.columns\n",
    "vif[\"VIF\"] = [variance_inflation_factor(predictors_df_2.values, i) for i in range(predictors_df_2.shape[1])]\n",
    "\n",
    "print(vif)"
   ]
  },
  {
   "cell_type": "code",
   "execution_count": 32,
   "metadata": {},
   "outputs": [
    {
     "name": "stdout",
     "output_type": "stream",
     "text": [
      "                                   Variable        VIF\n",
      "0                    GRAND LARCENY_pct_lag1   7.600391\n",
      "1                         BURGLARY_pct_lag1  16.434235\n",
      "2   GRAND LARCENY OF MOTOR VEHICLE_pct_lag1  11.837146\n",
      "3                   FELONY ASSAULT_pct_lag1  19.141821\n",
      "4  MURDER & NON NEGL. MANSLAUGHTER_pct_lag1   6.601833\n",
      "5                             RAPE_pct_lag1  13.121020\n",
      "6                           Budget_pct_lag1  18.703145\n",
      "7                       Population_Year_pct  17.375890\n"
     ]
    }
   ],
   "source": [
    "predictors_df_2 = filtered_pre_ts_analysis[['GRAND LARCENY_pct_lag1','BURGLARY_pct_lag1','GRAND LARCENY OF MOTOR VEHICLE_pct_lag1','FELONY ASSAULT_pct_lag1','MURDER & NON NEGL. MANSLAUGHTER_pct_lag1','RAPE_pct_lag1', 'Budget_pct_lag1','Population_Year_pct']]\n",
    "# Add a constant to the model (intercept)\n",
    "\n",
    "# Calculate VIF for each predictor variable\n",
    "vif = pd.DataFrame()\n",
    "vif[\"Variable\"] = predictors_df_2.columns\n",
    "vif[\"VIF\"] = [variance_inflation_factor(predictors_df_2.values, i) for i in range(predictors_df_2.shape[1])]\n",
    "\n",
    "print(vif)"
   ]
  },
  {
   "cell_type": "code",
   "execution_count": 33,
   "metadata": {},
   "outputs": [
    {
     "name": "stdout",
     "output_type": "stream",
     "text": [
      "                                   Variable        VIF\n",
      "0                    GRAND LARCENY_pct_lag1   7.579287\n",
      "1                         BURGLARY_pct_lag1  16.015216\n",
      "2   GRAND LARCENY OF MOTOR VEHICLE_pct_lag1  11.486106\n",
      "3  MURDER & NON NEGL. MANSLAUGHTER_pct_lag1   4.944485\n",
      "4                             RAPE_pct_lag1   9.854419\n",
      "5                           Budget_pct_lag1  17.107417\n",
      "6                       Population_Year_pct  16.253908\n"
     ]
    }
   ],
   "source": [
    "predictors_df_2 = filtered_pre_ts_analysis[['GRAND LARCENY_pct_lag1','BURGLARY_pct_lag1','GRAND LARCENY OF MOTOR VEHICLE_pct_lag1','MURDER & NON NEGL. MANSLAUGHTER_pct_lag1','RAPE_pct_lag1', 'Budget_pct_lag1','Population_Year_pct']]\n",
    "# Add a constant to the model (intercept)\n",
    "\n",
    "# Calculate VIF for each predictor variable\n",
    "vif = pd.DataFrame()\n",
    "vif[\"Variable\"] = predictors_df_2.columns\n",
    "vif[\"VIF\"] = [variance_inflation_factor(predictors_df_2.values, i) for i in range(predictors_df_2.shape[1])]\n",
    "\n",
    "print(vif)"
   ]
  },
  {
   "cell_type": "code",
   "execution_count": 34,
   "metadata": {},
   "outputs": [
    {
     "name": "stdout",
     "output_type": "stream",
     "text": [
      "                                   Variable        VIF\n",
      "0                    GRAND LARCENY_pct_lag1   6.410459\n",
      "1                         BURGLARY_pct_lag1  15.808650\n",
      "2   GRAND LARCENY OF MOTOR VEHICLE_pct_lag1  11.114968\n",
      "3  MURDER & NON NEGL. MANSLAUGHTER_pct_lag1   4.351979\n",
      "4                             RAPE_pct_lag1   8.625091\n",
      "5                       Population_Year_pct  14.031784\n"
     ]
    }
   ],
   "source": [
    "predictors_df_2 = filtered_pre_ts_analysis[['GRAND LARCENY_pct_lag1','BURGLARY_pct_lag1','GRAND LARCENY OF MOTOR VEHICLE_pct_lag1','MURDER & NON NEGL. MANSLAUGHTER_pct_lag1','RAPE_pct_lag1', 'Population_Year_pct']]\n",
    "# Add a constant to the model (intercept)\n",
    "\n",
    "# Calculate VIF for each predictor variable\n",
    "vif = pd.DataFrame()\n",
    "vif[\"Variable\"] = predictors_df_2.columns\n",
    "vif[\"VIF\"] = [variance_inflation_factor(predictors_df_2.values, i) for i in range(predictors_df_2.shape[1])]\n",
    "\n",
    "print(vif)"
   ]
  },
  {
   "cell_type": "code",
   "execution_count": 35,
   "metadata": {
    "scrolled": true
   },
   "outputs": [
    {
     "name": "stdout",
     "output_type": "stream",
     "text": [
      "                                   Variable        VIF\n",
      "0                    GRAND LARCENY_pct_lag1   5.340214\n",
      "1   GRAND LARCENY OF MOTOR VEHICLE_pct_lag1   9.486907\n",
      "2  MURDER & NON NEGL. MANSLAUGHTER_pct_lag1   4.250275\n",
      "3                             RAPE_pct_lag1   8.444362\n",
      "4                       Population_Year_pct  12.942593\n"
     ]
    }
   ],
   "source": [
    "predictors_df_2 = filtered_pre_ts_analysis[['GRAND LARCENY_pct_lag1','GRAND LARCENY OF MOTOR VEHICLE_pct_lag1','MURDER & NON NEGL. MANSLAUGHTER_pct_lag1','RAPE_pct_lag1', 'Population_Year_pct']]\n",
    "# Add a constant to the model (intercept)\n",
    "\n",
    "# Calculate VIF for each predictor variable\n",
    "vif = pd.DataFrame()\n",
    "vif[\"Variable\"] = predictors_df_2.columns\n",
    "vif[\"VIF\"] = [variance_inflation_factor(predictors_df_2.values, i) for i in range(predictors_df_2.shape[1])]\n",
    "\n",
    "print(vif)"
   ]
  },
  {
   "cell_type": "code",
   "execution_count": 36,
   "metadata": {},
   "outputs": [
    {
     "name": "stdout",
     "output_type": "stream",
     "text": [
      "                                   Variable       VIF\n",
      "0                    GRAND LARCENY_pct_lag1  3.188364\n",
      "1   GRAND LARCENY OF MOTOR VEHICLE_pct_lag1  5.426184\n",
      "2  MURDER & NON NEGL. MANSLAUGHTER_pct_lag1  4.180618\n",
      "3                             RAPE_pct_lag1  8.294728\n"
     ]
    }
   ],
   "source": [
    "predictors_df_2 = filtered_pre_ts_analysis[['GRAND LARCENY_pct_lag1','GRAND LARCENY OF MOTOR VEHICLE_pct_lag1','MURDER & NON NEGL. MANSLAUGHTER_pct_lag1','RAPE_pct_lag1']]\n",
    "# Add a constant to the model (intercept)\n",
    "\n",
    "# Calculate VIF for each predictor variable\n",
    "vif = pd.DataFrame()\n",
    "vif[\"Variable\"] = predictors_df_2.columns\n",
    "vif[\"VIF\"] = [variance_inflation_factor(predictors_df_2.values, i) for i in range(predictors_df_2.shape[1])]\n",
    "\n",
    "print(vif)"
   ]
  },
  {
   "cell_type": "code",
   "execution_count": null,
   "metadata": {},
   "outputs": [],
   "source": []
  },
  {
   "cell_type": "code",
   "execution_count": 37,
   "metadata": {},
   "outputs": [
    {
     "name": "stdout",
     "output_type": "stream",
     "text": [
      "                            OLS Regression Results                            \n",
      "==============================================================================\n",
      "Dep. Variable:             Budget_pct   R-squared:                       0.593\n",
      "Model:                            OLS   Adj. R-squared:                  0.592\n",
      "Method:                 Least Squares   F-statistic:                     600.4\n",
      "Date:                Mon, 20 May 2024   Prob (F-statistic):          1.06e-240\n",
      "Time:                        09:59:08   Log-Likelihood:                 5874.4\n",
      "No. Observations:                1240   AIC:                        -1.174e+04\n",
      "Df Residuals:                    1236   BIC:                        -1.172e+04\n",
      "Df Model:                           3                                         \n",
      "Covariance Type:            nonrobust                                         \n",
      "============================================================================================================\n",
      "                                               coef    std err          t      P>|t|      [0.025      0.975]\n",
      "------------------------------------------------------------------------------------------------------------\n",
      "const                                        0.0087      0.000     52.274      0.000       0.008       0.009\n",
      "GRAND LARCENY_pct_lag1                       0.0944      0.009     10.097      0.000       0.076       0.113\n",
      "MURDER & NON NEGL. MANSLAUGHTER_pct_lag1     0.1010      0.007     15.227      0.000       0.088       0.114\n",
      "RAPE_pct_lag1                                0.1737      0.010     17.142      0.000       0.154       0.194\n",
      "==============================================================================\n",
      "Omnibus:                      398.169   Durbin-Watson:                   1.921\n",
      "Prob(Omnibus):                  0.000   Jarque-Bera (JB):             1862.105\n",
      "Skew:                           1.437   Prob(JB):                         0.00\n",
      "Kurtosis:                       8.270   Cond. No.                         194.\n",
      "==============================================================================\n",
      "\n",
      "Notes:\n",
      "[1] Standard Errors assume that the covariance matrix of the errors is correctly specified.\n"
     ]
    }
   ],
   "source": [
    "X = filtered_pre_ts_analysis[['GRAND LARCENY_pct_lag1','MURDER & NON NEGL. MANSLAUGHTER_pct_lag1','RAPE_pct_lag1']]\n",
    "y = filtered_pre_ts_analysis['Budget_pct']\n",
    "X = sm.add_constant(filtered_pre_ts_analysis[['GRAND LARCENY_pct_lag1','MURDER & NON NEGL. MANSLAUGHTER_pct_lag1','RAPE_pct_lag1']])\n",
    "\n",
    "# Fit the OLS regression model\n",
    "model_4 = sm.OLS(y, X).fit()\n",
    "print(model_4.summary())"
   ]
  },
  {
   "cell_type": "code",
   "execution_count": 38,
   "metadata": {
    "scrolled": true
   },
   "outputs": [
    {
     "name": "stdout",
     "output_type": "stream",
     "text": [
      "                            OLS Regression Results                            \n",
      "==============================================================================\n",
      "Dep. Variable:             Budget_pct   R-squared:                       0.594\n",
      "Model:                            OLS   Adj. R-squared:                  0.593\n",
      "Method:                 Least Squares   F-statistic:                     451.9\n",
      "Date:                Mon, 20 May 2024   Prob (F-statistic):          5.68e-240\n",
      "Time:                        09:59:08   Log-Likelihood:                 5876.0\n",
      "No. Observations:                1240   AIC:                        -1.174e+04\n",
      "Df Residuals:                    1235   BIC:                        -1.172e+04\n",
      "Df Model:                           4                                         \n",
      "Covariance Type:            nonrobust                                         \n",
      "============================================================================================================\n",
      "                                               coef    std err          t      P>|t|      [0.025      0.975]\n",
      "------------------------------------------------------------------------------------------------------------\n",
      "const                                        0.0086      0.000     51.137      0.000       0.008       0.009\n",
      "GRAND LARCENY_pct_lag1                       0.0920      0.009      9.757      0.000       0.073       0.110\n",
      "GRAND LARCENY OF MOTOR VEHICLE_pct_lag1      0.0158      0.009      1.790      0.074      -0.002       0.033\n",
      "MURDER & NON NEGL. MANSLAUGHTER_pct_lag1     0.0997      0.007     14.956      0.000       0.087       0.113\n",
      "RAPE_pct_lag1                                0.1655      0.011     14.899      0.000       0.144       0.187\n",
      "==============================================================================\n",
      "Omnibus:                      404.918   Durbin-Watson:                   1.930\n",
      "Prob(Omnibus):                  0.000   Jarque-Bera (JB):             1936.532\n",
      "Skew:                           1.456   Prob(JB):                         0.00\n",
      "Kurtosis:                       8.385   Cond. No.                         209.\n",
      "==============================================================================\n",
      "\n",
      "Notes:\n",
      "[1] Standard Errors assume that the covariance matrix of the errors is correctly specified.\n"
     ]
    }
   ],
   "source": [
    "X = filtered_pre_ts_analysis[['GRAND LARCENY_pct_lag1','GRAND LARCENY OF MOTOR VEHICLE_pct_lag1','MURDER & NON NEGL. MANSLAUGHTER_pct_lag1','RAPE_pct_lag1']]\n",
    "y = filtered_pre_ts_analysis['Budget_pct']\n",
    "X = sm.add_constant(filtered_pre_ts_analysis[['GRAND LARCENY_pct_lag1','GRAND LARCENY OF MOTOR VEHICLE_pct_lag1','MURDER & NON NEGL. MANSLAUGHTER_pct_lag1','RAPE_pct_lag1']])\n",
    "\n",
    "# Fit the OLS regression model\n",
    "model_4 = sm.OLS(y, X).fit()\n",
    "print(model_4.summary())"
   ]
  },
  {
   "cell_type": "markdown",
   "metadata": {},
   "source": [
    "## Paper Findings: Index Crime"
   ]
  },
  {
   "cell_type": "code",
   "execution_count": 39,
   "metadata": {},
   "outputs": [
    {
     "name": "stdout",
     "output_type": "stream",
     "text": [
      "                            OLS Regression Results                            \n",
      "==============================================================================\n",
      "Dep. Variable:             Budget_pct   R-squared:                       0.594\n",
      "Model:                            OLS   Adj. R-squared:                  0.593\n",
      "Method:                 Least Squares   F-statistic:                     451.9\n",
      "Date:                Mon, 20 May 2024   Prob (F-statistic):          5.68e-240\n",
      "Time:                        09:59:08   Log-Likelihood:                -1199.9\n",
      "No. Observations:                1240   AIC:                             2410.\n",
      "Df Residuals:                    1235   BIC:                             2435.\n",
      "Df Model:                           4                                         \n",
      "Covariance Type:            nonrobust                                         \n",
      "============================================================================================================\n",
      "                                               coef    std err          t      P>|t|      [0.025      0.975]\n",
      "------------------------------------------------------------------------------------------------------------\n",
      "const                                    -9.454e-17      0.018  -5.22e-15      1.000      -0.036       0.036\n",
      "GRAND LARCENY_pct_lag1                       0.1820      0.019      9.757      0.000       0.145       0.219\n",
      "GRAND LARCENY OF MOTOR VEHICLE_pct_lag1      0.0407      0.023      1.790      0.074      -0.004       0.085\n",
      "MURDER & NON NEGL. MANSLAUGHTER_pct_lag1     0.3742      0.025     14.956      0.000       0.325       0.423\n",
      "RAPE_pct_lag1                                0.4086      0.027     14.899      0.000       0.355       0.462\n",
      "==============================================================================\n",
      "Omnibus:                      404.918   Durbin-Watson:                   1.930\n",
      "Prob(Omnibus):                  0.000   Jarque-Bera (JB):             1936.532\n",
      "Skew:                           1.456   Prob(JB):                         0.00\n",
      "Kurtosis:                       8.385   Cond. No.                         2.74\n",
      "==============================================================================\n",
      "\n",
      "Notes:\n",
      "[1] Standard Errors assume that the covariance matrix of the errors is correctly specified.\n"
     ]
    }
   ],
   "source": [
    "\n",
    "\n",
    "# Assuming 'filtered_pre_ts_analysis' is your DataFrame with proper columns.\n",
    "X = filtered_pre_ts_analysis[['GRAND LARCENY_pct_lag1','GRAND LARCENY OF MOTOR VEHICLE_pct_lag1', 'MURDER & NON NEGL. MANSLAUGHTER_pct_lag1','RAPE_pct_lag1']]\n",
    "y = filtered_pre_ts_analysis['Budget_pct']\n",
    "\n",
    "# Standardize the features\n",
    "scaler = StandardScaler()\n",
    "X_standardized = scaler.fit_transform(X)\n",
    "X_standardized = pd.DataFrame(X_standardized, columns=X.columns, index=X.index)  # Match the indices\n",
    "\n",
    "# Standardize the dependent variable\n",
    "y_mean = y.mean()\n",
    "y_std = y.std()\n",
    "y_standardized = (y - y_mean) / y_std\n",
    "y_standardized.index = X.index  # Ensure the indices are the same\n",
    "\n",
    "# Add a constant to the model (intercept)\n",
    "X_standardized = sm.add_constant(X_standardized)  # This will now retain the column names and index\n",
    "\n",
    "# Fit the OLS model with standardized variables\n",
    "model_standardized = sm.OLS(y_standardized, X_standardized).fit()\n",
    "\n",
    "# Fit the OLS regression model\n",
    "print(model_standardized.summary())"
   ]
  },
  {
   "cell_type": "code",
   "execution_count": 40,
   "metadata": {},
   "outputs": [
    {
     "name": "stdout",
     "output_type": "stream",
     "text": [
      "                            OLS Regression Results                            \n",
      "==============================================================================\n",
      "Dep. Variable:             Budget_pct   R-squared:                       0.521\n",
      "Model:                            OLS   Adj. R-squared:                  0.520\n",
      "Method:                 Least Squares   F-statistic:                     448.4\n",
      "Date:                Mon, 20 May 2024   Prob (F-statistic):          4.59e-197\n",
      "Time:                        09:59:08   Log-Likelihood:                -1302.4\n",
      "No. Observations:                1240   AIC:                             2613.\n",
      "Df Residuals:                    1236   BIC:                             2633.\n",
      "Df Model:                           3                                         \n",
      "Covariance Type:            nonrobust                                         \n",
      "==============================================================================\n",
      "                 coef    std err          t      P>|t|      [0.025      0.975]\n",
      "------------------------------------------------------------------------------\n",
      "const      -9.454e-17      0.020  -4.81e-15      1.000      -0.039       0.039\n",
      "x1             0.2131      0.020     10.590      0.000       0.174       0.253\n",
      "x2             0.1802      0.022      8.009      0.000       0.136       0.224\n",
      "x3             0.5885      0.022     26.487      0.000       0.545       0.632\n",
      "==============================================================================\n",
      "Omnibus:                      357.522   Durbin-Watson:                   1.901\n",
      "Prob(Omnibus):                  0.000   Jarque-Bera (JB):             1284.939\n",
      "Skew:                           1.371   Prob(JB):                    9.53e-280\n",
      "Kurtosis:                       7.166   Cond. No.                         1.70\n",
      "==============================================================================\n",
      "\n",
      "Notes:\n",
      "[1] Standard Errors assume that the covariance matrix of the errors is correctly specified.\n"
     ]
    }
   ],
   "source": [
    "X = filtered_pre_ts_analysis[['GRAND LARCENY_pct_lag1','GRAND LARCENY OF MOTOR VEHICLE_pct_lag1','MURDER & NON NEGL. MANSLAUGHTER_pct_lag1']]\n",
    "y = filtered_pre_ts_analysis['Budget_pct']\n",
    "\n",
    "# Standardize the features\n",
    "scaler = StandardScaler()\n",
    "X_standardized = scaler.fit_transform(X)\n",
    "\n",
    "# Standardize the dependent variable\n",
    "y_standardized = (y - y.mean()) / y.std()\n",
    "\n",
    "# Add a constant to the model (intercept)\n",
    "X_standardized = sm.add_constant(X_standardized)\n",
    "\n",
    "# Fit the OLS model with standardized variables\n",
    "model_standardized = sm.OLS(y_standardized, X_standardized).fit()\n",
    "\n",
    "# Fit the OLS regression model\n",
    "print(model_standardized.summary())"
   ]
  },
  {
   "cell_type": "code",
   "execution_count": null,
   "metadata": {},
   "outputs": [],
   "source": []
  },
  {
   "cell_type": "code",
   "execution_count": null,
   "metadata": {},
   "outputs": [],
   "source": []
  },
  {
   "cell_type": "code",
   "execution_count": null,
   "metadata": {},
   "outputs": [],
   "source": []
  }
 ],
 "metadata": {
  "kernelspec": {
   "display_name": "Python 3 (ipykernel)",
   "language": "python",
   "name": "python3"
  },
  "language_info": {
   "codemirror_mode": {
    "name": "ipython",
    "version": 3
   },
   "file_extension": ".py",
   "mimetype": "text/x-python",
   "name": "python",
   "nbconvert_exporter": "python",
   "pygments_lexer": "ipython3",
   "version": "3.11.5"
  }
 },
 "nbformat": 4,
 "nbformat_minor": 4
}
